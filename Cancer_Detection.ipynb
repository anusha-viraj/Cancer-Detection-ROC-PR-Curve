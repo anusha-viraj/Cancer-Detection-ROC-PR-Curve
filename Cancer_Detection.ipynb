{
  "nbformat": 4,
  "nbformat_minor": 0,
  "metadata": {
    "colab": {
      "name": "Cancer_Detection.ipynb",
      "provenance": [],
      "collapsed_sections": [
        "sGUc8bIEQ4hI",
        "TRm6EBUDSok-",
        "ZdEKfM5YI9S2",
        "S1E2qOMsK8eY",
        "wQfHr1qYLF3E",
        "lymnkcTTpaNO",
        "DDFby9hYFee8",
        "V1Cuu5ckC_gH",
        "DHkth3oaEkZ5",
        "wvbuDThiF0UC",
        "dbWXa2KxFGbU",
        "KMQcIBTUoNob",
        "h5WHn_eyLi26",
        "nNoY-F7oLpNW",
        "gWKV3PArMyX1",
        "MhmqCqmXM55O",
        "AW644d84I8kn",
        "e4glPzeNOB3V"
      ],
      "toc_visible": true
    },
    "kernelspec": {
      "name": "python3",
      "display_name": "Python 3"
    }
  },
  "cells": [
    {
      "cell_type": "markdown",
      "metadata": {
        "id": "KHoA9RaGkh7B",
        "colab_type": "text"
      },
      "source": [
        "# USE-CASE:\n",
        "\n",
        "Cancer Detection Modelling (Label: diagnosis, Features: remaining columns except id column)\n",
        "\n",
        "Deploy two best model based on the following criteria\n",
        "\n",
        "**Model1:** Get the best model based on Confusion Matrix and Numerical Metrics\n",
        "\n",
        "**Model2:** Get the best model based on Viz Metrics\n",
        "\n"
      ]
    },
    {
      "cell_type": "markdown",
      "metadata": {
        "id": "sGUc8bIEQ4hI",
        "colab_type": "text"
      },
      "source": [
        "## **IMPORT LIBRARIES**"
      ]
    },
    {
      "cell_type": "code",
      "metadata": {
        "id": "Cd1L6y8JQeJf",
        "colab_type": "code",
        "outputId": "7da5366c-4d0f-4511-ae38-cef79c6566c9",
        "colab": {
          "base_uri": "https://localhost:8080/"
        }
      },
      "source": [
        "import numpy as np\n",
        "import pandas as pd\n",
        "import seaborn as sns\n",
        "import matplotlib.pyplot as plt\n",
        "from sklearn.impute import SimpleImputer\n",
        "from sklearn.preprocessing import OneHotEncoder\n",
        "from sklearn.model_selection import train_test_split\n",
        "from sklearn import metrics\n",
        "from sklearn.linear_model import LogisticRegression\n",
        "%matplotlib inline\n",
        "\n",
        "import warnings\n",
        "warnings.filterwarnings(\"ignore\")"
      ],
      "execution_count": 0,
      "outputs": [
        {
          "output_type": "stream",
          "text": [
            "/usr/local/lib/python3.6/dist-packages/statsmodels/tools/_testing.py:19: FutureWarning: pandas.util.testing is deprecated. Use the functions in the public API at pandas.testing instead.\n",
            "  import pandas.util.testing as tm\n"
          ],
          "name": "stderr"
        }
      ]
    },
    {
      "cell_type": "markdown",
      "metadata": {
        "id": "TRm6EBUDSok-",
        "colab_type": "text"
      },
      "source": [
        "## **IMPORT DATA AND GET INFORMATION**"
      ]
    },
    {
      "cell_type": "code",
      "metadata": {
        "id": "E6V2u4IKRp0-",
        "colab_type": "code",
        "outputId": "106adac8-fbdc-4e15-88e6-1978f49ee5aa",
        "colab": {
          "base_uri": "https://localhost:8080/"
        }
      },
      "source": [
        "data = pd.read_csv('cancer.csv')\n",
        "data.head()"
      ],
      "execution_count": 0,
      "outputs": [
        {
          "output_type": "execute_result",
          "data": {
            "text/html": [
              "<div>\n",
              "<style scoped>\n",
              "    .dataframe tbody tr th:only-of-type {\n",
              "        vertical-align: middle;\n",
              "    }\n",
              "\n",
              "    .dataframe tbody tr th {\n",
              "        vertical-align: top;\n",
              "    }\n",
              "\n",
              "    .dataframe thead th {\n",
              "        text-align: right;\n",
              "    }\n",
              "</style>\n",
              "<table border=\"1\" class=\"dataframe\">\n",
              "  <thead>\n",
              "    <tr style=\"text-align: right;\">\n",
              "      <th></th>\n",
              "      <th>id</th>\n",
              "      <th>diagnosis</th>\n",
              "      <th>radius_mean</th>\n",
              "      <th>texture_mean</th>\n",
              "      <th>perimeter_mean</th>\n",
              "      <th>area_mean</th>\n",
              "      <th>smoothness_mean</th>\n",
              "      <th>compactness_mean</th>\n",
              "      <th>concavity_mean</th>\n",
              "      <th>points_mean</th>\n",
              "      <th>symmetry_mean</th>\n",
              "      <th>dimension_mean</th>\n",
              "      <th>radius_se</th>\n",
              "      <th>texture_se</th>\n",
              "      <th>perimeter_se</th>\n",
              "      <th>area_se</th>\n",
              "      <th>smoothness_se</th>\n",
              "      <th>compactness_se</th>\n",
              "      <th>concavity_se</th>\n",
              "      <th>points_se</th>\n",
              "      <th>symmetry_se</th>\n",
              "      <th>dimension_se</th>\n",
              "      <th>radius_worst</th>\n",
              "      <th>texture_worst</th>\n",
              "      <th>perimeter_worst</th>\n",
              "      <th>area_worst</th>\n",
              "      <th>smoothness_worst</th>\n",
              "      <th>compactness_worst</th>\n",
              "      <th>concavity_worst</th>\n",
              "      <th>points_worst</th>\n",
              "      <th>symmetry_worst</th>\n",
              "      <th>dimension_worst</th>\n",
              "    </tr>\n",
              "  </thead>\n",
              "  <tbody>\n",
              "    <tr>\n",
              "      <th>0</th>\n",
              "      <td>87139402</td>\n",
              "      <td>B</td>\n",
              "      <td>12.32</td>\n",
              "      <td>12.39</td>\n",
              "      <td>78.85</td>\n",
              "      <td>464.1</td>\n",
              "      <td>0.10280</td>\n",
              "      <td>0.06981</td>\n",
              "      <td>0.03987</td>\n",
              "      <td>0.03700</td>\n",
              "      <td>0.1959</td>\n",
              "      <td>0.05955</td>\n",
              "      <td>0.2360</td>\n",
              "      <td>0.6656</td>\n",
              "      <td>1.670</td>\n",
              "      <td>17.43</td>\n",
              "      <td>0.008045</td>\n",
              "      <td>0.011800</td>\n",
              "      <td>0.01683</td>\n",
              "      <td>0.012410</td>\n",
              "      <td>0.01924</td>\n",
              "      <td>0.002248</td>\n",
              "      <td>13.50</td>\n",
              "      <td>15.64</td>\n",
              "      <td>86.97</td>\n",
              "      <td>549.1</td>\n",
              "      <td>0.1385</td>\n",
              "      <td>0.1266</td>\n",
              "      <td>0.12420</td>\n",
              "      <td>0.09391</td>\n",
              "      <td>0.2827</td>\n",
              "      <td>0.06771</td>\n",
              "    </tr>\n",
              "    <tr>\n",
              "      <th>1</th>\n",
              "      <td>8910251</td>\n",
              "      <td>B</td>\n",
              "      <td>10.60</td>\n",
              "      <td>18.95</td>\n",
              "      <td>69.28</td>\n",
              "      <td>346.4</td>\n",
              "      <td>0.09688</td>\n",
              "      <td>0.11470</td>\n",
              "      <td>0.06387</td>\n",
              "      <td>0.02642</td>\n",
              "      <td>0.1922</td>\n",
              "      <td>0.06491</td>\n",
              "      <td>0.4505</td>\n",
              "      <td>1.1970</td>\n",
              "      <td>3.430</td>\n",
              "      <td>27.10</td>\n",
              "      <td>0.007470</td>\n",
              "      <td>0.035810</td>\n",
              "      <td>0.03354</td>\n",
              "      <td>0.013650</td>\n",
              "      <td>0.03504</td>\n",
              "      <td>0.003318</td>\n",
              "      <td>11.88</td>\n",
              "      <td>22.94</td>\n",
              "      <td>78.28</td>\n",
              "      <td>424.8</td>\n",
              "      <td>0.1213</td>\n",
              "      <td>0.2515</td>\n",
              "      <td>0.19160</td>\n",
              "      <td>0.07926</td>\n",
              "      <td>0.2940</td>\n",
              "      <td>0.07587</td>\n",
              "    </tr>\n",
              "    <tr>\n",
              "      <th>2</th>\n",
              "      <td>905520</td>\n",
              "      <td>B</td>\n",
              "      <td>11.04</td>\n",
              "      <td>16.83</td>\n",
              "      <td>70.92</td>\n",
              "      <td>373.2</td>\n",
              "      <td>0.10770</td>\n",
              "      <td>0.07804</td>\n",
              "      <td>0.03046</td>\n",
              "      <td>0.02480</td>\n",
              "      <td>0.1714</td>\n",
              "      <td>0.06340</td>\n",
              "      <td>0.1967</td>\n",
              "      <td>1.3870</td>\n",
              "      <td>1.342</td>\n",
              "      <td>13.54</td>\n",
              "      <td>0.005158</td>\n",
              "      <td>0.009355</td>\n",
              "      <td>0.01056</td>\n",
              "      <td>0.007483</td>\n",
              "      <td>0.01718</td>\n",
              "      <td>0.002198</td>\n",
              "      <td>12.41</td>\n",
              "      <td>26.44</td>\n",
              "      <td>79.93</td>\n",
              "      <td>471.4</td>\n",
              "      <td>0.1369</td>\n",
              "      <td>0.1482</td>\n",
              "      <td>0.10670</td>\n",
              "      <td>0.07431</td>\n",
              "      <td>0.2998</td>\n",
              "      <td>0.07881</td>\n",
              "    </tr>\n",
              "    <tr>\n",
              "      <th>3</th>\n",
              "      <td>868871</td>\n",
              "      <td>B</td>\n",
              "      <td>11.28</td>\n",
              "      <td>13.39</td>\n",
              "      <td>73.00</td>\n",
              "      <td>384.8</td>\n",
              "      <td>0.11640</td>\n",
              "      <td>0.11360</td>\n",
              "      <td>0.04635</td>\n",
              "      <td>0.04796</td>\n",
              "      <td>0.1771</td>\n",
              "      <td>0.06072</td>\n",
              "      <td>0.3384</td>\n",
              "      <td>1.3430</td>\n",
              "      <td>1.851</td>\n",
              "      <td>26.33</td>\n",
              "      <td>0.011270</td>\n",
              "      <td>0.034980</td>\n",
              "      <td>0.02187</td>\n",
              "      <td>0.019650</td>\n",
              "      <td>0.01580</td>\n",
              "      <td>0.003442</td>\n",
              "      <td>11.92</td>\n",
              "      <td>15.77</td>\n",
              "      <td>76.53</td>\n",
              "      <td>434.0</td>\n",
              "      <td>0.1367</td>\n",
              "      <td>0.1822</td>\n",
              "      <td>0.08669</td>\n",
              "      <td>0.08611</td>\n",
              "      <td>0.2102</td>\n",
              "      <td>0.06784</td>\n",
              "    </tr>\n",
              "    <tr>\n",
              "      <th>4</th>\n",
              "      <td>9012568</td>\n",
              "      <td>B</td>\n",
              "      <td>15.19</td>\n",
              "      <td>13.21</td>\n",
              "      <td>97.65</td>\n",
              "      <td>711.8</td>\n",
              "      <td>0.07963</td>\n",
              "      <td>0.06934</td>\n",
              "      <td>0.03393</td>\n",
              "      <td>0.02657</td>\n",
              "      <td>0.1721</td>\n",
              "      <td>0.05544</td>\n",
              "      <td>0.1783</td>\n",
              "      <td>0.4125</td>\n",
              "      <td>1.338</td>\n",
              "      <td>17.72</td>\n",
              "      <td>0.005012</td>\n",
              "      <td>0.014850</td>\n",
              "      <td>0.01551</td>\n",
              "      <td>0.009155</td>\n",
              "      <td>0.01647</td>\n",
              "      <td>0.001767</td>\n",
              "      <td>16.20</td>\n",
              "      <td>15.73</td>\n",
              "      <td>104.50</td>\n",
              "      <td>819.1</td>\n",
              "      <td>0.1126</td>\n",
              "      <td>0.1737</td>\n",
              "      <td>0.13620</td>\n",
              "      <td>0.08178</td>\n",
              "      <td>0.2487</td>\n",
              "      <td>0.06766</td>\n",
              "    </tr>\n",
              "  </tbody>\n",
              "</table>\n",
              "</div>"
            ],
            "text/plain": [
              "         id diagnosis  ...  symmetry_worst  dimension_worst\n",
              "0  87139402         B  ...          0.2827          0.06771\n",
              "1   8910251         B  ...          0.2940          0.07587\n",
              "2    905520         B  ...          0.2998          0.07881\n",
              "3    868871         B  ...          0.2102          0.06784\n",
              "4   9012568         B  ...          0.2487          0.06766\n",
              "\n",
              "[5 rows x 32 columns]"
            ]
          },
          "metadata": {
            "tags": []
          },
          "execution_count": 2
        }
      ]
    },
    {
      "cell_type": "code",
      "metadata": {
        "id": "Tpv9jwUBk3_i",
        "colab_type": "code",
        "colab": {}
      },
      "source": [
        "data.drop(columns=['id'],axis=1,inplace=True)"
      ],
      "execution_count": 0,
      "outputs": []
    },
    {
      "cell_type": "code",
      "metadata": {
        "id": "wl9POPgXS_dJ",
        "colab_type": "code",
        "outputId": "3317644f-6139-40cf-f6de-c97a0db067cf",
        "colab": {
          "base_uri": "https://localhost:8080/"
        }
      },
      "source": [
        "data.shape"
      ],
      "execution_count": 0,
      "outputs": [
        {
          "output_type": "execute_result",
          "data": {
            "text/plain": [
              "(569, 31)"
            ]
          },
          "metadata": {
            "tags": []
          },
          "execution_count": 4
        }
      ]
    },
    {
      "cell_type": "code",
      "metadata": {
        "id": "zWfkVXISU3SW",
        "colab_type": "code",
        "outputId": "5af0823b-adef-40a9-dfcd-e3e849d9b97b",
        "colab": {
          "base_uri": "https://localhost:8080/"
        }
      },
      "source": [
        "data.describe()"
      ],
      "execution_count": 0,
      "outputs": [
        {
          "output_type": "execute_result",
          "data": {
            "text/html": [
              "<div>\n",
              "<style scoped>\n",
              "    .dataframe tbody tr th:only-of-type {\n",
              "        vertical-align: middle;\n",
              "    }\n",
              "\n",
              "    .dataframe tbody tr th {\n",
              "        vertical-align: top;\n",
              "    }\n",
              "\n",
              "    .dataframe thead th {\n",
              "        text-align: right;\n",
              "    }\n",
              "</style>\n",
              "<table border=\"1\" class=\"dataframe\">\n",
              "  <thead>\n",
              "    <tr style=\"text-align: right;\">\n",
              "      <th></th>\n",
              "      <th>radius_mean</th>\n",
              "      <th>texture_mean</th>\n",
              "      <th>perimeter_mean</th>\n",
              "      <th>area_mean</th>\n",
              "      <th>smoothness_mean</th>\n",
              "      <th>compactness_mean</th>\n",
              "      <th>concavity_mean</th>\n",
              "      <th>points_mean</th>\n",
              "      <th>symmetry_mean</th>\n",
              "      <th>dimension_mean</th>\n",
              "      <th>radius_se</th>\n",
              "      <th>texture_se</th>\n",
              "      <th>perimeter_se</th>\n",
              "      <th>area_se</th>\n",
              "      <th>smoothness_se</th>\n",
              "      <th>compactness_se</th>\n",
              "      <th>concavity_se</th>\n",
              "      <th>points_se</th>\n",
              "      <th>symmetry_se</th>\n",
              "      <th>dimension_se</th>\n",
              "      <th>radius_worst</th>\n",
              "      <th>texture_worst</th>\n",
              "      <th>perimeter_worst</th>\n",
              "      <th>area_worst</th>\n",
              "      <th>smoothness_worst</th>\n",
              "      <th>compactness_worst</th>\n",
              "      <th>concavity_worst</th>\n",
              "      <th>points_worst</th>\n",
              "      <th>symmetry_worst</th>\n",
              "      <th>dimension_worst</th>\n",
              "    </tr>\n",
              "  </thead>\n",
              "  <tbody>\n",
              "    <tr>\n",
              "      <th>count</th>\n",
              "      <td>569.000000</td>\n",
              "      <td>569.000000</td>\n",
              "      <td>569.000000</td>\n",
              "      <td>569.000000</td>\n",
              "      <td>569.000000</td>\n",
              "      <td>569.000000</td>\n",
              "      <td>569.000000</td>\n",
              "      <td>569.000000</td>\n",
              "      <td>569.000000</td>\n",
              "      <td>569.000000</td>\n",
              "      <td>569.000000</td>\n",
              "      <td>569.000000</td>\n",
              "      <td>569.000000</td>\n",
              "      <td>569.000000</td>\n",
              "      <td>569.000000</td>\n",
              "      <td>569.000000</td>\n",
              "      <td>569.000000</td>\n",
              "      <td>569.000000</td>\n",
              "      <td>569.000000</td>\n",
              "      <td>569.000000</td>\n",
              "      <td>569.000000</td>\n",
              "      <td>569.000000</td>\n",
              "      <td>569.000000</td>\n",
              "      <td>569.000000</td>\n",
              "      <td>569.000000</td>\n",
              "      <td>569.000000</td>\n",
              "      <td>569.000000</td>\n",
              "      <td>569.000000</td>\n",
              "      <td>569.000000</td>\n",
              "      <td>569.000000</td>\n",
              "    </tr>\n",
              "    <tr>\n",
              "      <th>mean</th>\n",
              "      <td>14.127292</td>\n",
              "      <td>19.289649</td>\n",
              "      <td>91.969033</td>\n",
              "      <td>654.889104</td>\n",
              "      <td>0.096360</td>\n",
              "      <td>0.104341</td>\n",
              "      <td>0.088799</td>\n",
              "      <td>0.048919</td>\n",
              "      <td>0.181162</td>\n",
              "      <td>0.062798</td>\n",
              "      <td>0.405172</td>\n",
              "      <td>1.216853</td>\n",
              "      <td>2.866059</td>\n",
              "      <td>40.337079</td>\n",
              "      <td>0.007041</td>\n",
              "      <td>0.025478</td>\n",
              "      <td>0.031894</td>\n",
              "      <td>0.011796</td>\n",
              "      <td>0.020542</td>\n",
              "      <td>0.003795</td>\n",
              "      <td>16.269190</td>\n",
              "      <td>25.677223</td>\n",
              "      <td>107.261213</td>\n",
              "      <td>880.583128</td>\n",
              "      <td>0.132369</td>\n",
              "      <td>0.254265</td>\n",
              "      <td>0.272188</td>\n",
              "      <td>0.114606</td>\n",
              "      <td>0.290076</td>\n",
              "      <td>0.083946</td>\n",
              "    </tr>\n",
              "    <tr>\n",
              "      <th>std</th>\n",
              "      <td>3.524049</td>\n",
              "      <td>4.301036</td>\n",
              "      <td>24.298981</td>\n",
              "      <td>351.914129</td>\n",
              "      <td>0.014064</td>\n",
              "      <td>0.052813</td>\n",
              "      <td>0.079720</td>\n",
              "      <td>0.038803</td>\n",
              "      <td>0.027414</td>\n",
              "      <td>0.007060</td>\n",
              "      <td>0.277313</td>\n",
              "      <td>0.551648</td>\n",
              "      <td>2.021855</td>\n",
              "      <td>45.491006</td>\n",
              "      <td>0.003003</td>\n",
              "      <td>0.017908</td>\n",
              "      <td>0.030186</td>\n",
              "      <td>0.006170</td>\n",
              "      <td>0.008266</td>\n",
              "      <td>0.002646</td>\n",
              "      <td>4.833242</td>\n",
              "      <td>6.146258</td>\n",
              "      <td>33.602542</td>\n",
              "      <td>569.356993</td>\n",
              "      <td>0.022832</td>\n",
              "      <td>0.157336</td>\n",
              "      <td>0.208624</td>\n",
              "      <td>0.065732</td>\n",
              "      <td>0.061867</td>\n",
              "      <td>0.018061</td>\n",
              "    </tr>\n",
              "    <tr>\n",
              "      <th>min</th>\n",
              "      <td>6.981000</td>\n",
              "      <td>9.710000</td>\n",
              "      <td>43.790000</td>\n",
              "      <td>143.500000</td>\n",
              "      <td>0.052630</td>\n",
              "      <td>0.019380</td>\n",
              "      <td>0.000000</td>\n",
              "      <td>0.000000</td>\n",
              "      <td>0.106000</td>\n",
              "      <td>0.049960</td>\n",
              "      <td>0.111500</td>\n",
              "      <td>0.360200</td>\n",
              "      <td>0.757000</td>\n",
              "      <td>6.802000</td>\n",
              "      <td>0.001713</td>\n",
              "      <td>0.002252</td>\n",
              "      <td>0.000000</td>\n",
              "      <td>0.000000</td>\n",
              "      <td>0.007882</td>\n",
              "      <td>0.000895</td>\n",
              "      <td>7.930000</td>\n",
              "      <td>12.020000</td>\n",
              "      <td>50.410000</td>\n",
              "      <td>185.200000</td>\n",
              "      <td>0.071170</td>\n",
              "      <td>0.027290</td>\n",
              "      <td>0.000000</td>\n",
              "      <td>0.000000</td>\n",
              "      <td>0.156500</td>\n",
              "      <td>0.055040</td>\n",
              "    </tr>\n",
              "    <tr>\n",
              "      <th>25%</th>\n",
              "      <td>11.700000</td>\n",
              "      <td>16.170000</td>\n",
              "      <td>75.170000</td>\n",
              "      <td>420.300000</td>\n",
              "      <td>0.086370</td>\n",
              "      <td>0.064920</td>\n",
              "      <td>0.029560</td>\n",
              "      <td>0.020310</td>\n",
              "      <td>0.161900</td>\n",
              "      <td>0.057700</td>\n",
              "      <td>0.232400</td>\n",
              "      <td>0.833900</td>\n",
              "      <td>1.606000</td>\n",
              "      <td>17.850000</td>\n",
              "      <td>0.005169</td>\n",
              "      <td>0.013080</td>\n",
              "      <td>0.015090</td>\n",
              "      <td>0.007638</td>\n",
              "      <td>0.015160</td>\n",
              "      <td>0.002248</td>\n",
              "      <td>13.010000</td>\n",
              "      <td>21.080000</td>\n",
              "      <td>84.110000</td>\n",
              "      <td>515.300000</td>\n",
              "      <td>0.116600</td>\n",
              "      <td>0.147200</td>\n",
              "      <td>0.114500</td>\n",
              "      <td>0.064930</td>\n",
              "      <td>0.250400</td>\n",
              "      <td>0.071460</td>\n",
              "    </tr>\n",
              "    <tr>\n",
              "      <th>50%</th>\n",
              "      <td>13.370000</td>\n",
              "      <td>18.840000</td>\n",
              "      <td>86.240000</td>\n",
              "      <td>551.100000</td>\n",
              "      <td>0.095870</td>\n",
              "      <td>0.092630</td>\n",
              "      <td>0.061540</td>\n",
              "      <td>0.033500</td>\n",
              "      <td>0.179200</td>\n",
              "      <td>0.061540</td>\n",
              "      <td>0.324200</td>\n",
              "      <td>1.108000</td>\n",
              "      <td>2.287000</td>\n",
              "      <td>24.530000</td>\n",
              "      <td>0.006380</td>\n",
              "      <td>0.020450</td>\n",
              "      <td>0.025890</td>\n",
              "      <td>0.010930</td>\n",
              "      <td>0.018730</td>\n",
              "      <td>0.003187</td>\n",
              "      <td>14.970000</td>\n",
              "      <td>25.410000</td>\n",
              "      <td>97.660000</td>\n",
              "      <td>686.500000</td>\n",
              "      <td>0.131300</td>\n",
              "      <td>0.211900</td>\n",
              "      <td>0.226700</td>\n",
              "      <td>0.099930</td>\n",
              "      <td>0.282200</td>\n",
              "      <td>0.080040</td>\n",
              "    </tr>\n",
              "    <tr>\n",
              "      <th>75%</th>\n",
              "      <td>15.780000</td>\n",
              "      <td>21.800000</td>\n",
              "      <td>104.100000</td>\n",
              "      <td>782.700000</td>\n",
              "      <td>0.105300</td>\n",
              "      <td>0.130400</td>\n",
              "      <td>0.130700</td>\n",
              "      <td>0.074000</td>\n",
              "      <td>0.195700</td>\n",
              "      <td>0.066120</td>\n",
              "      <td>0.478900</td>\n",
              "      <td>1.474000</td>\n",
              "      <td>3.357000</td>\n",
              "      <td>45.190000</td>\n",
              "      <td>0.008146</td>\n",
              "      <td>0.032450</td>\n",
              "      <td>0.042050</td>\n",
              "      <td>0.014710</td>\n",
              "      <td>0.023480</td>\n",
              "      <td>0.004558</td>\n",
              "      <td>18.790000</td>\n",
              "      <td>29.720000</td>\n",
              "      <td>125.400000</td>\n",
              "      <td>1084.000000</td>\n",
              "      <td>0.146000</td>\n",
              "      <td>0.339100</td>\n",
              "      <td>0.382900</td>\n",
              "      <td>0.161400</td>\n",
              "      <td>0.317900</td>\n",
              "      <td>0.092080</td>\n",
              "    </tr>\n",
              "    <tr>\n",
              "      <th>max</th>\n",
              "      <td>28.110000</td>\n",
              "      <td>39.280000</td>\n",
              "      <td>188.500000</td>\n",
              "      <td>2501.000000</td>\n",
              "      <td>0.163400</td>\n",
              "      <td>0.345400</td>\n",
              "      <td>0.426800</td>\n",
              "      <td>0.201200</td>\n",
              "      <td>0.304000</td>\n",
              "      <td>0.097440</td>\n",
              "      <td>2.873000</td>\n",
              "      <td>4.885000</td>\n",
              "      <td>21.980000</td>\n",
              "      <td>542.200000</td>\n",
              "      <td>0.031130</td>\n",
              "      <td>0.135400</td>\n",
              "      <td>0.396000</td>\n",
              "      <td>0.052790</td>\n",
              "      <td>0.078950</td>\n",
              "      <td>0.029840</td>\n",
              "      <td>36.040000</td>\n",
              "      <td>49.540000</td>\n",
              "      <td>251.200000</td>\n",
              "      <td>4254.000000</td>\n",
              "      <td>0.222600</td>\n",
              "      <td>1.058000</td>\n",
              "      <td>1.252000</td>\n",
              "      <td>0.291000</td>\n",
              "      <td>0.663800</td>\n",
              "      <td>0.207500</td>\n",
              "    </tr>\n",
              "  </tbody>\n",
              "</table>\n",
              "</div>"
            ],
            "text/plain": [
              "       radius_mean  texture_mean  ...  symmetry_worst  dimension_worst\n",
              "count   569.000000    569.000000  ...      569.000000       569.000000\n",
              "mean     14.127292     19.289649  ...        0.290076         0.083946\n",
              "std       3.524049      4.301036  ...        0.061867         0.018061\n",
              "min       6.981000      9.710000  ...        0.156500         0.055040\n",
              "25%      11.700000     16.170000  ...        0.250400         0.071460\n",
              "50%      13.370000     18.840000  ...        0.282200         0.080040\n",
              "75%      15.780000     21.800000  ...        0.317900         0.092080\n",
              "max      28.110000     39.280000  ...        0.663800         0.207500\n",
              "\n",
              "[8 rows x 30 columns]"
            ]
          },
          "metadata": {
            "tags": []
          },
          "execution_count": 5
        }
      ]
    },
    {
      "cell_type": "code",
      "metadata": {
        "id": "MYtcJiJrU6N3",
        "colab_type": "code",
        "outputId": "3a64c74f-35fb-47e0-fb2d-4a0c0cca2ab4",
        "colab": {
          "base_uri": "https://localhost:8080/"
        }
      },
      "source": [
        "data.info()"
      ],
      "execution_count": 0,
      "outputs": [
        {
          "output_type": "stream",
          "text": [
            "<class 'pandas.core.frame.DataFrame'>\n",
            "RangeIndex: 569 entries, 0 to 568\n",
            "Data columns (total 31 columns):\n",
            " #   Column             Non-Null Count  Dtype  \n",
            "---  ------             --------------  -----  \n",
            " 0   diagnosis          569 non-null    object \n",
            " 1   radius_mean        569 non-null    float64\n",
            " 2   texture_mean       569 non-null    float64\n",
            " 3   perimeter_mean     569 non-null    float64\n",
            " 4   area_mean          569 non-null    float64\n",
            " 5   smoothness_mean    569 non-null    float64\n",
            " 6   compactness_mean   569 non-null    float64\n",
            " 7   concavity_mean     569 non-null    float64\n",
            " 8   points_mean        569 non-null    float64\n",
            " 9   symmetry_mean      569 non-null    float64\n",
            " 10  dimension_mean     569 non-null    float64\n",
            " 11  radius_se          569 non-null    float64\n",
            " 12  texture_se         569 non-null    float64\n",
            " 13  perimeter_se       569 non-null    float64\n",
            " 14  area_se            569 non-null    float64\n",
            " 15  smoothness_se      569 non-null    float64\n",
            " 16  compactness_se     569 non-null    float64\n",
            " 17  concavity_se       569 non-null    float64\n",
            " 18  points_se          569 non-null    float64\n",
            " 19  symmetry_se        569 non-null    float64\n",
            " 20  dimension_se       569 non-null    float64\n",
            " 21  radius_worst       569 non-null    float64\n",
            " 22  texture_worst      569 non-null    float64\n",
            " 23  perimeter_worst    569 non-null    float64\n",
            " 24  area_worst         569 non-null    float64\n",
            " 25  smoothness_worst   569 non-null    float64\n",
            " 26  compactness_worst  569 non-null    float64\n",
            " 27  concavity_worst    569 non-null    float64\n",
            " 28  points_worst       569 non-null    float64\n",
            " 29  symmetry_worst     569 non-null    float64\n",
            " 30  dimension_worst    569 non-null    float64\n",
            "dtypes: float64(30), object(1)\n",
            "memory usage: 137.9+ KB\n"
          ],
          "name": "stdout"
        }
      ]
    },
    {
      "cell_type": "markdown",
      "metadata": {
        "id": "ZdEKfM5YI9S2",
        "colab_type": "text"
      },
      "source": [
        "## **DATA PREPROCESSING**"
      ]
    },
    {
      "cell_type": "markdown",
      "metadata": {
        "id": "S1E2qOMsK8eY",
        "colab_type": "text"
      },
      "source": [
        "### Check and remove all duplicate records from dataframe"
      ]
    },
    {
      "cell_type": "code",
      "metadata": {
        "id": "apqHSUCYJA0n",
        "colab_type": "code",
        "outputId": "22a5ad4c-23ff-4110-a071-2082cb864da1",
        "colab": {
          "base_uri": "https://localhost:8080/"
        }
      },
      "source": [
        "data.duplicated().any()"
      ],
      "execution_count": 0,
      "outputs": [
        {
          "output_type": "execute_result",
          "data": {
            "text/plain": [
              "False"
            ]
          },
          "metadata": {
            "tags": []
          },
          "execution_count": 7
        }
      ]
    },
    {
      "cell_type": "markdown",
      "metadata": {
        "id": "wQfHr1qYLF3E",
        "colab_type": "text"
      },
      "source": [
        "### If your data is continous numerical data, check with reference to domain whether the following parameters are valid or not:\n",
        "  1. Negative Numbers are allowed or not.\n",
        "  2. Positive Numbers are allowed or not.\n",
        "  3. Complex Numbers are allowed or not.\n",
        "  4. Decimals are allowed or just integers are expected"
      ]
    },
    {
      "cell_type": "code",
      "metadata": {
        "id": "qmr3sF3UKjUq",
        "colab_type": "code",
        "outputId": "09716957-257c-4c20-f587-2e85f74d3ef9",
        "colab": {
          "base_uri": "https://localhost:8080/"
        }
      },
      "source": [
        "features = data.iloc[:,1:]\n",
        "\n",
        "def check_negative(data=data,column = features):\n",
        "  for column in features:\n",
        "    if(data[column] < 0).any():\n",
        "      print(\"Negative value present in: \", column)\n",
        "    else:\n",
        "      print(\"No Negative value present in: \",column)\n",
        "\n",
        "check_negative()"
      ],
      "execution_count": 0,
      "outputs": [
        {
          "output_type": "stream",
          "text": [
            "No Negative value present in:  radius_mean\n",
            "No Negative value present in:  texture_mean\n",
            "No Negative value present in:  perimeter_mean\n",
            "No Negative value present in:  area_mean\n",
            "No Negative value present in:  smoothness_mean\n",
            "No Negative value present in:  compactness_mean\n",
            "No Negative value present in:  concavity_mean\n",
            "No Negative value present in:  points_mean\n",
            "No Negative value present in:  symmetry_mean\n",
            "No Negative value present in:  dimension_mean\n",
            "No Negative value present in:  radius_se\n",
            "No Negative value present in:  texture_se\n",
            "No Negative value present in:  perimeter_se\n",
            "No Negative value present in:  area_se\n",
            "No Negative value present in:  smoothness_se\n",
            "No Negative value present in:  compactness_se\n",
            "No Negative value present in:  concavity_se\n",
            "No Negative value present in:  points_se\n",
            "No Negative value present in:  symmetry_se\n",
            "No Negative value present in:  dimension_se\n",
            "No Negative value present in:  radius_worst\n",
            "No Negative value present in:  texture_worst\n",
            "No Negative value present in:  perimeter_worst\n",
            "No Negative value present in:  area_worst\n",
            "No Negative value present in:  smoothness_worst\n",
            "No Negative value present in:  compactness_worst\n",
            "No Negative value present in:  concavity_worst\n",
            "No Negative value present in:  points_worst\n",
            "No Negative value present in:  symmetry_worst\n",
            "No Negative value present in:  dimension_worst\n"
          ],
          "name": "stdout"
        }
      ]
    },
    {
      "cell_type": "markdown",
      "metadata": {
        "id": "lymnkcTTpaNO",
        "colab_type": "text"
      },
      "source": [
        "### SEPARATING FEATURES AND LABELS"
      ]
    },
    {
      "cell_type": "markdown",
      "metadata": {
        "id": "cON14ixQzNsY",
        "colab_type": "text"
      },
      "source": [
        "For Sklearn users:\n",
        "\n",
        "Rules for Regression:\n",
        " 1. Features and label must be in the form of numpy array\n",
        " 2. Features must be in 2d array\n",
        " 3. Label must be in 1d array"
      ]
    },
    {
      "cell_type": "code",
      "metadata": {
        "id": "WoYV-VsvFlCE",
        "colab_type": "code",
        "outputId": "5b610b62-2a64-4206-c5ab-7fd1e56347f7",
        "colab": {
          "base_uri": "https://localhost:8080/"
        }
      },
      "source": [
        "data.head()"
      ],
      "execution_count": 0,
      "outputs": [
        {
          "output_type": "execute_result",
          "data": {
            "text/html": [
              "<div>\n",
              "<style scoped>\n",
              "    .dataframe tbody tr th:only-of-type {\n",
              "        vertical-align: middle;\n",
              "    }\n",
              "\n",
              "    .dataframe tbody tr th {\n",
              "        vertical-align: top;\n",
              "    }\n",
              "\n",
              "    .dataframe thead th {\n",
              "        text-align: right;\n",
              "    }\n",
              "</style>\n",
              "<table border=\"1\" class=\"dataframe\">\n",
              "  <thead>\n",
              "    <tr style=\"text-align: right;\">\n",
              "      <th></th>\n",
              "      <th>diagnosis</th>\n",
              "      <th>radius_mean</th>\n",
              "      <th>texture_mean</th>\n",
              "      <th>perimeter_mean</th>\n",
              "      <th>area_mean</th>\n",
              "      <th>smoothness_mean</th>\n",
              "      <th>compactness_mean</th>\n",
              "      <th>concavity_mean</th>\n",
              "      <th>points_mean</th>\n",
              "      <th>symmetry_mean</th>\n",
              "      <th>dimension_mean</th>\n",
              "      <th>radius_se</th>\n",
              "      <th>texture_se</th>\n",
              "      <th>perimeter_se</th>\n",
              "      <th>area_se</th>\n",
              "      <th>smoothness_se</th>\n",
              "      <th>compactness_se</th>\n",
              "      <th>concavity_se</th>\n",
              "      <th>points_se</th>\n",
              "      <th>symmetry_se</th>\n",
              "      <th>dimension_se</th>\n",
              "      <th>radius_worst</th>\n",
              "      <th>texture_worst</th>\n",
              "      <th>perimeter_worst</th>\n",
              "      <th>area_worst</th>\n",
              "      <th>smoothness_worst</th>\n",
              "      <th>compactness_worst</th>\n",
              "      <th>concavity_worst</th>\n",
              "      <th>points_worst</th>\n",
              "      <th>symmetry_worst</th>\n",
              "      <th>dimension_worst</th>\n",
              "    </tr>\n",
              "  </thead>\n",
              "  <tbody>\n",
              "    <tr>\n",
              "      <th>0</th>\n",
              "      <td>B</td>\n",
              "      <td>12.32</td>\n",
              "      <td>12.39</td>\n",
              "      <td>78.85</td>\n",
              "      <td>464.1</td>\n",
              "      <td>0.10280</td>\n",
              "      <td>0.06981</td>\n",
              "      <td>0.03987</td>\n",
              "      <td>0.03700</td>\n",
              "      <td>0.1959</td>\n",
              "      <td>0.05955</td>\n",
              "      <td>0.2360</td>\n",
              "      <td>0.6656</td>\n",
              "      <td>1.670</td>\n",
              "      <td>17.43</td>\n",
              "      <td>0.008045</td>\n",
              "      <td>0.011800</td>\n",
              "      <td>0.01683</td>\n",
              "      <td>0.012410</td>\n",
              "      <td>0.01924</td>\n",
              "      <td>0.002248</td>\n",
              "      <td>13.50</td>\n",
              "      <td>15.64</td>\n",
              "      <td>86.97</td>\n",
              "      <td>549.1</td>\n",
              "      <td>0.1385</td>\n",
              "      <td>0.1266</td>\n",
              "      <td>0.12420</td>\n",
              "      <td>0.09391</td>\n",
              "      <td>0.2827</td>\n",
              "      <td>0.06771</td>\n",
              "    </tr>\n",
              "    <tr>\n",
              "      <th>1</th>\n",
              "      <td>B</td>\n",
              "      <td>10.60</td>\n",
              "      <td>18.95</td>\n",
              "      <td>69.28</td>\n",
              "      <td>346.4</td>\n",
              "      <td>0.09688</td>\n",
              "      <td>0.11470</td>\n",
              "      <td>0.06387</td>\n",
              "      <td>0.02642</td>\n",
              "      <td>0.1922</td>\n",
              "      <td>0.06491</td>\n",
              "      <td>0.4505</td>\n",
              "      <td>1.1970</td>\n",
              "      <td>3.430</td>\n",
              "      <td>27.10</td>\n",
              "      <td>0.007470</td>\n",
              "      <td>0.035810</td>\n",
              "      <td>0.03354</td>\n",
              "      <td>0.013650</td>\n",
              "      <td>0.03504</td>\n",
              "      <td>0.003318</td>\n",
              "      <td>11.88</td>\n",
              "      <td>22.94</td>\n",
              "      <td>78.28</td>\n",
              "      <td>424.8</td>\n",
              "      <td>0.1213</td>\n",
              "      <td>0.2515</td>\n",
              "      <td>0.19160</td>\n",
              "      <td>0.07926</td>\n",
              "      <td>0.2940</td>\n",
              "      <td>0.07587</td>\n",
              "    </tr>\n",
              "    <tr>\n",
              "      <th>2</th>\n",
              "      <td>B</td>\n",
              "      <td>11.04</td>\n",
              "      <td>16.83</td>\n",
              "      <td>70.92</td>\n",
              "      <td>373.2</td>\n",
              "      <td>0.10770</td>\n",
              "      <td>0.07804</td>\n",
              "      <td>0.03046</td>\n",
              "      <td>0.02480</td>\n",
              "      <td>0.1714</td>\n",
              "      <td>0.06340</td>\n",
              "      <td>0.1967</td>\n",
              "      <td>1.3870</td>\n",
              "      <td>1.342</td>\n",
              "      <td>13.54</td>\n",
              "      <td>0.005158</td>\n",
              "      <td>0.009355</td>\n",
              "      <td>0.01056</td>\n",
              "      <td>0.007483</td>\n",
              "      <td>0.01718</td>\n",
              "      <td>0.002198</td>\n",
              "      <td>12.41</td>\n",
              "      <td>26.44</td>\n",
              "      <td>79.93</td>\n",
              "      <td>471.4</td>\n",
              "      <td>0.1369</td>\n",
              "      <td>0.1482</td>\n",
              "      <td>0.10670</td>\n",
              "      <td>0.07431</td>\n",
              "      <td>0.2998</td>\n",
              "      <td>0.07881</td>\n",
              "    </tr>\n",
              "    <tr>\n",
              "      <th>3</th>\n",
              "      <td>B</td>\n",
              "      <td>11.28</td>\n",
              "      <td>13.39</td>\n",
              "      <td>73.00</td>\n",
              "      <td>384.8</td>\n",
              "      <td>0.11640</td>\n",
              "      <td>0.11360</td>\n",
              "      <td>0.04635</td>\n",
              "      <td>0.04796</td>\n",
              "      <td>0.1771</td>\n",
              "      <td>0.06072</td>\n",
              "      <td>0.3384</td>\n",
              "      <td>1.3430</td>\n",
              "      <td>1.851</td>\n",
              "      <td>26.33</td>\n",
              "      <td>0.011270</td>\n",
              "      <td>0.034980</td>\n",
              "      <td>0.02187</td>\n",
              "      <td>0.019650</td>\n",
              "      <td>0.01580</td>\n",
              "      <td>0.003442</td>\n",
              "      <td>11.92</td>\n",
              "      <td>15.77</td>\n",
              "      <td>76.53</td>\n",
              "      <td>434.0</td>\n",
              "      <td>0.1367</td>\n",
              "      <td>0.1822</td>\n",
              "      <td>0.08669</td>\n",
              "      <td>0.08611</td>\n",
              "      <td>0.2102</td>\n",
              "      <td>0.06784</td>\n",
              "    </tr>\n",
              "    <tr>\n",
              "      <th>4</th>\n",
              "      <td>B</td>\n",
              "      <td>15.19</td>\n",
              "      <td>13.21</td>\n",
              "      <td>97.65</td>\n",
              "      <td>711.8</td>\n",
              "      <td>0.07963</td>\n",
              "      <td>0.06934</td>\n",
              "      <td>0.03393</td>\n",
              "      <td>0.02657</td>\n",
              "      <td>0.1721</td>\n",
              "      <td>0.05544</td>\n",
              "      <td>0.1783</td>\n",
              "      <td>0.4125</td>\n",
              "      <td>1.338</td>\n",
              "      <td>17.72</td>\n",
              "      <td>0.005012</td>\n",
              "      <td>0.014850</td>\n",
              "      <td>0.01551</td>\n",
              "      <td>0.009155</td>\n",
              "      <td>0.01647</td>\n",
              "      <td>0.001767</td>\n",
              "      <td>16.20</td>\n",
              "      <td>15.73</td>\n",
              "      <td>104.50</td>\n",
              "      <td>819.1</td>\n",
              "      <td>0.1126</td>\n",
              "      <td>0.1737</td>\n",
              "      <td>0.13620</td>\n",
              "      <td>0.08178</td>\n",
              "      <td>0.2487</td>\n",
              "      <td>0.06766</td>\n",
              "    </tr>\n",
              "  </tbody>\n",
              "</table>\n",
              "</div>"
            ],
            "text/plain": [
              "  diagnosis  radius_mean  ...  symmetry_worst  dimension_worst\n",
              "0         B        12.32  ...          0.2827          0.06771\n",
              "1         B        10.60  ...          0.2940          0.07587\n",
              "2         B        11.04  ...          0.2998          0.07881\n",
              "3         B        11.28  ...          0.2102          0.06784\n",
              "4         B        15.19  ...          0.2487          0.06766\n",
              "\n",
              "[5 rows x 31 columns]"
            ]
          },
          "metadata": {
            "tags": []
          },
          "execution_count": 9
        }
      ]
    },
    {
      "cell_type": "code",
      "metadata": {
        "id": "K4k_knJgpXLg",
        "colab_type": "code",
        "colab": {}
      },
      "source": [
        "features = data.iloc[:,1:].values\n",
        "label = data.iloc[:,0].values"
      ],
      "execution_count": 0,
      "outputs": []
    },
    {
      "cell_type": "code",
      "metadata": {
        "id": "2gdZP-h7tNcP",
        "colab_type": "code",
        "colab": {}
      },
      "source": [
        "from sklearn import preprocessing\n",
        "from sklearn.preprocessing import LabelEncoder\n",
        "labelencoder = LabelEncoder()\n",
        "data['diagnosis'] = labelencoder.fit_transform(data['diagnosis'])\n",
        "data['diagnosis']\n",
        "\n",
        "label = data['diagnosis'].values"
      ],
      "execution_count": 0,
      "outputs": []
    },
    {
      "cell_type": "code",
      "metadata": {
        "id": "uGN6AqCpqCs7",
        "colab_type": "code",
        "outputId": "20e7323d-d011-44a4-efa9-cb5f5201262c",
        "colab": {
          "base_uri": "https://localhost:8080/"
        }
      },
      "source": [
        "print(\"Dimension on feature is: \", features.ndim,\"\\t\",\"Dimension of label: \", label.ndim, \"\\n\")"
      ],
      "execution_count": 0,
      "outputs": [
        {
          "output_type": "stream",
          "text": [
            "Dimension on feature is:  2 \t Dimension of label:  1 \n",
            "\n"
          ],
          "name": "stdout"
        }
      ]
    },
    {
      "cell_type": "markdown",
      "metadata": {
        "id": "54gQ3-ujo2Vk",
        "colab_type": "text"
      },
      "source": [
        "## **CHECK BALANCED AND UNBALANCED**"
      ]
    },
    {
      "cell_type": "markdown",
      "metadata": {
        "id": "SH-LU_EYDVv7",
        "colab_type": "text"
      },
      "source": [
        "Testing the support for **0 (benign)** and support for **1 (malignant)**"
      ]
    },
    {
      "cell_type": "code",
      "metadata": {
        "id": "NqFzI2PFo4xe",
        "colab_type": "code",
        "outputId": "d0a354d5-415a-4138-8111-1c8957244243",
        "colab": {
          "base_uri": "https://localhost:8080/",
          "height": 70
        }
      },
      "source": [
        "data.diagnosis.value_counts()"
      ],
      "execution_count": 0,
      "outputs": [
        {
          "output_type": "execute_result",
          "data": {
            "text/plain": [
              "0    357\n",
              "1    212\n",
              "Name: diagnosis, dtype: int64"
            ]
          },
          "metadata": {
            "tags": []
          },
          "execution_count": 13
        }
      ]
    },
    {
      "cell_type": "code",
      "metadata": {
        "id": "yb20Kiy-o_g5",
        "colab_type": "code",
        "outputId": "8830f833-9995-4523-c124-1956860f209a",
        "colab": {
          "base_uri": "https://localhost:8080/",
          "height": 368
        }
      },
      "source": [
        "print(\"Count of B and M: \",\"\\n\", data['diagnosis'].value_counts(),\"\\n\")\n",
        "data.diagnosis.value_counts().plot(kind='bar')"
      ],
      "execution_count": 0,
      "outputs": [
        {
          "output_type": "stream",
          "text": [
            "Count of B and M:  \n",
            " 0    357\n",
            "1    212\n",
            "Name: diagnosis, dtype: int64 \n",
            "\n"
          ],
          "name": "stdout"
        },
        {
          "output_type": "execute_result",
          "data": {
            "text/plain": [
              "<matplotlib.axes._subplots.AxesSubplot at 0x7fec4d6d2160>"
            ]
          },
          "metadata": {
            "tags": []
          },
          "execution_count": 14
        },
        {
          "output_type": "display_data",
          "data": {
            "image/png": "[encoded data removed]",
            "text/plain": [
              "<Figure size 432x288 with 1 Axes>"
            ]
          },
          "metadata": {
            "tags": [],
            "needs_background": "light"
          }
        }
      ]
    },
    {
      "cell_type": "markdown",
      "metadata": {
        "id": "0XFE1n0fpH3F",
        "colab_type": "text"
      },
      "source": [
        "**Analysis:** The data is unbalanced"
      ]
    },
    {
      "cell_type": "markdown",
      "metadata": {
        "id": "-wZ3Zki1pOFu",
        "colab_type": "text"
      },
      "source": [
        "## SPLIT TRAIN & TEST DATA"
      ]
    },
    {
      "cell_type": "code",
      "metadata": {
        "id": "rtvQT_BqqCjg",
        "colab_type": "code",
        "outputId": "01c1e2a5-2fc5-44c0-ce87-50138b2541d4",
        "colab": {
          "base_uri": "https://localhost:8080/",
          "height": 87
        }
      },
      "source": [
        "for i in range(1,500):\n",
        "    X_train,X_test,y_train,y_test = train_test_split(features, label, test_size=0.2, random_state = i)\n",
        "    model1 = LogisticRegression()\n",
        "    model1.fit(X_train,y_train)\n",
        "    \n",
        "    train_score = model1.score(X_train,y_train)\n",
        "    test_score = model1.score(X_test,y_test)\n",
        "    \n",
        "    if (test_score > train_score) & (test_score>=0.99):\n",
        "        print(\"Test: {} , Train: {} , RS : {}\".format(test_score,train_score,i))"
      ],
      "execution_count": 0,
      "outputs": [
        {
          "output_type": "stream",
          "text": [
            "Test: 0.9912280701754386 , Train: 0.9428571428571428 , RS : 59\n",
            "Test: 0.9912280701754386 , Train: 0.9340659340659341 , RS : 155\n",
            "Test: 0.9912280701754386 , Train: 0.9494505494505494 , RS : 366\n",
            "Test: 0.9912280701754386 , Train: 0.9428571428571428 , RS : 422\n"
          ],
          "name": "stdout"
        }
      ]
    },
    {
      "cell_type": "markdown",
      "metadata": {
        "id": "DDFby9hYFee8",
        "colab_type": "text"
      },
      "source": [
        "## **MODEL SELECTION BASED ON CONFUSION MATRIX**\n",
        "\n",
        "**Check for Non Tolerant data:**\n",
        "\n",
        "M (1) -> B (0) (Non Tolerant)\n",
        "\n",
        "B (0) -> M (1)\n",
        "\n",
        "Precision of B\n",
        "\n",
        "Recall of M\n",
        "\n",
        "\n",
        "**Average of Precision and Recall**\n",
        "\n",
        "**Model 1:** 94% with     RS 59\n",
        "\n",
        "**Model 2:** 93.5% with   RS 155\n",
        "\n",
        "**Model 3:** 94.5% with   RS 366\n",
        "\n",
        "**Model 4:** 93.5% with   RS 422\n"
      ]
    },
    {
      "cell_type": "markdown",
      "metadata": {
        "id": "V1Cuu5ckC_gH",
        "colab_type": "text"
      },
      "source": [
        "#### **MODEL 1 USING RS 59**"
      ]
    },
    {
      "cell_type": "code",
      "metadata": {
        "id": "J2q9hQa4qTE0",
        "colab_type": "code",
        "colab": {}
      },
      "source": [
        "from sklearn.model_selection import train_test_split\n",
        "from sklearn.linear_model import LogisticRegression\n",
        "\n",
        "X_train_M1,X_test_M1,y_train_M1,y_test_M1 = train_test_split(features,\n",
        "                                                label,\n",
        "                                                test_size=0.2,\n",
        "                                                random_state=59)"
      ],
      "execution_count": 0,
      "outputs": []
    },
    {
      "cell_type": "code",
      "metadata": {
        "id": "ZdwdSd6xpV_i",
        "colab_type": "code",
        "outputId": "9d694090-66c3-45c9-f502-f5f9423a2e19",
        "colab": {
          "base_uri": "https://localhost:8080/"
        }
      },
      "source": [
        "model_M1 = LogisticRegression()\n",
        "model_M1.fit(X_train_M1,y_train_M1)"
      ],
      "execution_count": 0,
      "outputs": [
        {
          "output_type": "execute_result",
          "data": {
            "text/plain": [
              "LogisticRegression(C=1.0, class_weight=None, dual=False, fit_intercept=True,\n",
              "                   intercept_scaling=1, l1_ratio=None, max_iter=100,\n",
              "                   multi_class='auto', n_jobs=None, penalty='l2',\n",
              "                   random_state=None, solver='lbfgs', tol=0.0001, verbose=0,\n",
              "                   warm_start=False)"
            ]
          },
          "metadata": {
            "tags": []
          },
          "execution_count": 17
        }
      ]
    },
    {
      "cell_type": "code",
      "metadata": {
        "id": "Eq0YXXfFoNn5",
        "colab_type": "code",
        "outputId": "a24573f7-808b-4bec-be8a-01ac0735fc3c",
        "colab": {
          "base_uri": "https://localhost:8080/"
        }
      },
      "source": [
        "print(model_M1.score(X_train_M1,y_train_M1))\n",
        "print(model_M1.score(X_test_M1,y_test_M1))"
      ],
      "execution_count": 0,
      "outputs": [
        {
          "output_type": "stream",
          "text": [
            "0.9428571428571428\n",
            "0.9912280701754386\n"
          ],
          "name": "stdout"
        }
      ]
    },
    {
      "cell_type": "code",
      "metadata": {
        "id": "Jg3KnNE6vovw",
        "colab_type": "code",
        "outputId": "e22b500e-4314-4c61-98a0-065f9cf93d59",
        "colab": {
          "base_uri": "https://localhost:8080/"
        }
      },
      "source": [
        "from sklearn.metrics import confusion_matrix\n",
        "\n",
        "confusion_matrix(label,model_M1.predict(features))"
      ],
      "execution_count": 0,
      "outputs": [
        {
          "output_type": "execute_result",
          "data": {
            "text/plain": [
              "array([[346,  11],\n",
              "       [ 16, 196]])"
            ]
          },
          "metadata": {
            "tags": []
          },
          "execution_count": 19
        }
      ]
    },
    {
      "cell_type": "markdown",
      "metadata": {
        "id": "EUcCphAnDwBl",
        "colab_type": "text"
      },
      "source": [
        "**Check for Non Tolerant data:**\n",
        "\n",
        "M (1) -> B (0) (Non Tolerant)\n",
        "\n",
        "B (0) -> M (1)\n",
        "\n",
        "Precision of B\n",
        "\n",
        "Recall of M"
      ]
    },
    {
      "cell_type": "code",
      "metadata": {
        "id": "lCUcyF16vsFM",
        "colab_type": "code",
        "outputId": "f5b68966-b38f-499b-f645-48e34e086988",
        "colab": {
          "base_uri": "https://localhost:8080/"
        }
      },
      "source": [
        "from sklearn.metrics import classification_report\n",
        "print(classification_report(label,model_M1.predict(features)))"
      ],
      "execution_count": 0,
      "outputs": [
        {
          "output_type": "stream",
          "text": [
            "              precision    recall  f1-score   support\n",
            "\n",
            "           0       0.96      0.97      0.96       357\n",
            "           1       0.95      0.92      0.94       212\n",
            "\n",
            "    accuracy                           0.95       569\n",
            "   macro avg       0.95      0.95      0.95       569\n",
            "weighted avg       0.95      0.95      0.95       569\n",
            "\n"
          ],
          "name": "stdout"
        }
      ]
    },
    {
      "cell_type": "markdown",
      "metadata": {
        "id": "PibC2qcYEK6k",
        "colab_type": "text"
      },
      "source": [
        "**Analysis:** Average is **94 %** which is **not acceptable** for **SL = 0.05**"
      ]
    },
    {
      "cell_type": "markdown",
      "metadata": {
        "colab_type": "text",
        "id": "DHkth3oaEkZ5"
      },
      "source": [
        "#### **MODEL 2 USING RS 155**"
      ]
    },
    {
      "cell_type": "code",
      "metadata": {
        "colab_type": "code",
        "id": "7fktS14pEkZ-",
        "colab": {}
      },
      "source": [
        "from sklearn.model_selection import train_test_split\n",
        "from sklearn.linear_model import LogisticRegression\n",
        "\n",
        "X_train_M2,X_test_M2,y_train_M2,y_test_M2 = train_test_split(features,\n",
        "                                                label,\n",
        "                                                test_size=0.2,\n",
        "                                                random_state=155)"
      ],
      "execution_count": 0,
      "outputs": []
    },
    {
      "cell_type": "code",
      "metadata": {
        "colab_type": "code",
        "outputId": "5ec0f89c-fca4-4092-c865-3f3731e33014",
        "id": "mrcTavj2EkaR",
        "colab": {
          "base_uri": "https://localhost:8080/"
        }
      },
      "source": [
        "model_M2 = LogisticRegression()\n",
        "model_M2.fit(X_train_M2,y_train_M2)"
      ],
      "execution_count": 0,
      "outputs": [
        {
          "output_type": "execute_result",
          "data": {
            "text/plain": [
              "LogisticRegression(C=1.0, class_weight=None, dual=False, fit_intercept=True,\n",
              "                   intercept_scaling=1, l1_ratio=None, max_iter=100,\n",
              "                   multi_class='auto', n_jobs=None, penalty='l2',\n",
              "                   random_state=None, solver='lbfgs', tol=0.0001, verbose=0,\n",
              "                   warm_start=False)"
            ]
          },
          "metadata": {
            "tags": []
          },
          "execution_count": 22
        }
      ]
    },
    {
      "cell_type": "code",
      "metadata": {
        "colab_type": "code",
        "outputId": "070ca2f2-a6b0-4769-ae9c-39b1b9296099",
        "id": "NxOeiwEqEkag",
        "colab": {
          "base_uri": "https://localhost:8080/"
        }
      },
      "source": [
        "print(model_M2.score(X_train_M2,y_train_M2))\n",
        "print(model_M2.score(X_test_M2,y_test_M2))"
      ],
      "execution_count": 0,
      "outputs": [
        {
          "output_type": "stream",
          "text": [
            "0.9340659340659341\n",
            "0.9912280701754386\n"
          ],
          "name": "stdout"
        }
      ]
    },
    {
      "cell_type": "code",
      "metadata": {
        "colab_type": "code",
        "outputId": "bde9792e-7110-4aca-e542-593b14a4c5da",
        "id": "B3Psm7VvEkan",
        "colab": {
          "base_uri": "https://localhost:8080/"
        }
      },
      "source": [
        "from sklearn.metrics import confusion_matrix\n",
        "\n",
        "confusion_matrix(label,model_M2.predict(features))"
      ],
      "execution_count": 0,
      "outputs": [
        {
          "output_type": "execute_result",
          "data": {
            "text/plain": [
              "array([[343,  14],\n",
              "       [ 17, 195]])"
            ]
          },
          "metadata": {
            "tags": []
          },
          "execution_count": 24
        }
      ]
    },
    {
      "cell_type": "markdown",
      "metadata": {
        "colab_type": "text",
        "id": "f169JuxCEkaw"
      },
      "source": [
        "**Check for Non Tolerant data:**\n",
        "\n",
        "M (1) -> B (0) (Non Tolerant)\n",
        "\n",
        "B (0) -> M (1)\n",
        "\n",
        "Precision of B\n",
        "\n",
        "Recall of M"
      ]
    },
    {
      "cell_type": "code",
      "metadata": {
        "colab_type": "code",
        "outputId": "d93f6218-2661-4bd5-9768-e3034a04907e",
        "id": "zgxbHVQBEkay",
        "colab": {
          "base_uri": "https://localhost:8080/"
        }
      },
      "source": [
        "from sklearn.metrics import classification_report\n",
        "print(classification_report(label,model_M2.predict(features)))"
      ],
      "execution_count": 0,
      "outputs": [
        {
          "output_type": "stream",
          "text": [
            "              precision    recall  f1-score   support\n",
            "\n",
            "           0       0.95      0.96      0.96       357\n",
            "           1       0.93      0.92      0.93       212\n",
            "\n",
            "    accuracy                           0.95       569\n",
            "   macro avg       0.94      0.94      0.94       569\n",
            "weighted avg       0.95      0.95      0.95       569\n",
            "\n"
          ],
          "name": "stdout"
        }
      ]
    },
    {
      "cell_type": "markdown",
      "metadata": {
        "colab_type": "text",
        "id": "XbKu28-3Eka5"
      },
      "source": [
        "**Analysis:** Average is **93.5 %** which is **not acceptable** for **SL = 0.05**"
      ]
    },
    {
      "cell_type": "markdown",
      "metadata": {
        "colab_type": "text",
        "id": "wvbuDThiF0UC"
      },
      "source": [
        "#### **MODEL 3 USING RS 366**"
      ]
    },
    {
      "cell_type": "code",
      "metadata": {
        "colab_type": "code",
        "id": "XMPZnAKXF0UL",
        "colab": {}
      },
      "source": [
        "from sklearn.model_selection import train_test_split\n",
        "from sklearn.linear_model import LogisticRegression\n",
        "\n",
        "X_train_M3,X_test_M3,y_train_M3,y_test_M3 = train_test_split(features,\n",
        "                                                label,\n",
        "                                                test_size=0.2,\n",
        "                                                random_state=366)"
      ],
      "execution_count": 0,
      "outputs": []
    },
    {
      "cell_type": "code",
      "metadata": {
        "colab_type": "code",
        "outputId": "0fdba144-e835-470f-da5d-7efef88b4f52",
        "id": "sG9t7O-tF0Uc",
        "colab": {
          "base_uri": "https://localhost:8080/"
        }
      },
      "source": [
        "model_M3 = LogisticRegression()\n",
        "model_M3.fit(X_train_M3,y_train_M3)"
      ],
      "execution_count": 0,
      "outputs": [
        {
          "output_type": "execute_result",
          "data": {
            "text/plain": [
              "LogisticRegression(C=1.0, class_weight=None, dual=False, fit_intercept=True,\n",
              "                   intercept_scaling=1, l1_ratio=None, max_iter=100,\n",
              "                   multi_class='auto', n_jobs=None, penalty='l2',\n",
              "                   random_state=None, solver='lbfgs', tol=0.0001, verbose=0,\n",
              "                   warm_start=False)"
            ]
          },
          "metadata": {
            "tags": []
          },
          "execution_count": 27
        }
      ]
    },
    {
      "cell_type": "code",
      "metadata": {
        "colab_type": "code",
        "outputId": "45f86816-4c91-4d28-862d-3896d0e7a5ee",
        "id": "q-KZKnOaF0Uo",
        "colab": {
          "base_uri": "https://localhost:8080/"
        }
      },
      "source": [
        "print(model_M3.score(X_train_M3,y_train_M3))\n",
        "print(model_M3.score(X_test_M3,y_test_M3))"
      ],
      "execution_count": 0,
      "outputs": [
        {
          "output_type": "stream",
          "text": [
            "0.9494505494505494\n",
            "0.9912280701754386\n"
          ],
          "name": "stdout"
        }
      ]
    },
    {
      "cell_type": "code",
      "metadata": {
        "colab_type": "code",
        "outputId": "ad07b29e-b4af-45cc-c124-0b987075fcb3",
        "id": "DmICb50YF0Uv",
        "colab": {
          "base_uri": "https://localhost:8080/"
        }
      },
      "source": [
        "from sklearn.metrics import confusion_matrix\n",
        "\n",
        "confusion_matrix(label,model_M3.predict(features))"
      ],
      "execution_count": 0,
      "outputs": [
        {
          "output_type": "execute_result",
          "data": {
            "text/plain": [
              "array([[348,   9],\n",
              "       [ 15, 197]])"
            ]
          },
          "metadata": {
            "tags": []
          },
          "execution_count": 29
        }
      ]
    },
    {
      "cell_type": "markdown",
      "metadata": {
        "colab_type": "text",
        "id": "ahKYoS49F0U6"
      },
      "source": [
        "**Check for Non Tolerant data:**\n",
        "\n",
        "M (1) -> B (0) (Non Tolerant)\n",
        "\n",
        "B (0) -> M (1)\n",
        "\n",
        "Precision of B\n",
        "\n",
        "Recall of M"
      ]
    },
    {
      "cell_type": "code",
      "metadata": {
        "colab_type": "code",
        "outputId": "58f54be5-a683-4658-c8bb-320e205f9e23",
        "id": "ofsGz8WUF0U7",
        "colab": {
          "base_uri": "https://localhost:8080/"
        }
      },
      "source": [
        "from sklearn.metrics import classification_report\n",
        "print(classification_report(label,model_M3.predict(features)))"
      ],
      "execution_count": 0,
      "outputs": [
        {
          "output_type": "stream",
          "text": [
            "              precision    recall  f1-score   support\n",
            "\n",
            "           0       0.96      0.97      0.97       357\n",
            "           1       0.96      0.93      0.94       212\n",
            "\n",
            "    accuracy                           0.96       569\n",
            "   macro avg       0.96      0.95      0.95       569\n",
            "weighted avg       0.96      0.96      0.96       569\n",
            "\n"
          ],
          "name": "stdout"
        }
      ]
    },
    {
      "cell_type": "markdown",
      "metadata": {
        "colab_type": "text",
        "id": "P8o-7JdYF0VC"
      },
      "source": [
        "**Analysis:** Average is **94.5 %** which is **not acceptable** for **SL = 0.05**"
      ]
    },
    {
      "cell_type": "markdown",
      "metadata": {
        "colab_type": "text",
        "id": "dbWXa2KxFGbU"
      },
      "source": [
        "#### **MODEL 4 USING RS 422**"
      ]
    },
    {
      "cell_type": "code",
      "metadata": {
        "colab_type": "code",
        "id": "b4Pm6BrJFGbd",
        "colab": {}
      },
      "source": [
        "from sklearn.model_selection import train_test_split\n",
        "from sklearn.linear_model import LogisticRegression\n",
        "\n",
        "X_train_M4,X_test_M4,y_train_M4,y_test_M4 = train_test_split(features,\n",
        "                                                label,\n",
        "                                                test_size=0.2,\n",
        "                                                random_state=422)"
      ],
      "execution_count": 0,
      "outputs": []
    },
    {
      "cell_type": "code",
      "metadata": {
        "colab_type": "code",
        "outputId": "aed4ac02-c303-4e6e-f0ec-221c05522ab4",
        "id": "6GUVbSv7FGbu",
        "colab": {
          "base_uri": "https://localhost:8080/"
        }
      },
      "source": [
        "model_M4 = LogisticRegression()\n",
        "model_M4.fit(X_train_M4,y_train_M4)"
      ],
      "execution_count": 0,
      "outputs": [
        {
          "output_type": "execute_result",
          "data": {
            "text/plain": [
              "LogisticRegression(C=1.0, class_weight=None, dual=False, fit_intercept=True,\n",
              "                   intercept_scaling=1, l1_ratio=None, max_iter=100,\n",
              "                   multi_class='auto', n_jobs=None, penalty='l2',\n",
              "                   random_state=None, solver='lbfgs', tol=0.0001, verbose=0,\n",
              "                   warm_start=False)"
            ]
          },
          "metadata": {
            "tags": []
          },
          "execution_count": 32
        }
      ]
    },
    {
      "cell_type": "code",
      "metadata": {
        "colab_type": "code",
        "outputId": "c7540753-4bbc-4c0d-f850-3647040cc94b",
        "id": "R-jcc8mVFGcA",
        "colab": {
          "base_uri": "https://localhost:8080/"
        }
      },
      "source": [
        "print(model_M4.score(X_train,y_train))\n",
        "print(model_M4.score(X_test_M4,y_test_M4))"
      ],
      "execution_count": 0,
      "outputs": [
        {
          "output_type": "stream",
          "text": [
            "0.945054945054945\n",
            "0.9912280701754386\n"
          ],
          "name": "stdout"
        }
      ]
    },
    {
      "cell_type": "code",
      "metadata": {
        "colab_type": "code",
        "outputId": "ae27fa3b-8ff0-4e72-ecca-1fe9ae4bea15",
        "id": "5gH95RLwFGcH",
        "colab": {
          "base_uri": "https://localhost:8080/"
        }
      },
      "source": [
        "from sklearn.metrics import confusion_matrix\n",
        "\n",
        "confusion_matrix(label,model_M4.predict(features))"
      ],
      "execution_count": 0,
      "outputs": [
        {
          "output_type": "execute_result",
          "data": {
            "text/plain": [
              "array([[347,  10],\n",
              "       [ 17, 195]])"
            ]
          },
          "metadata": {
            "tags": []
          },
          "execution_count": 34
        }
      ]
    },
    {
      "cell_type": "markdown",
      "metadata": {
        "colab_type": "text",
        "id": "vEHs6DqYFGcO"
      },
      "source": [
        "**Check for Non Tolerant data:**\n",
        "\n",
        "M (1) -> B (0) (Non Tolerant)\n",
        "\n",
        "B (0) -> M (1)\n",
        "\n",
        "Precision of B\n",
        "\n",
        "Recall of M"
      ]
    },
    {
      "cell_type": "code",
      "metadata": {
        "colab_type": "code",
        "outputId": "27447a42-70e2-41bc-e745-86a8f8b681cf",
        "id": "DRo63wPoFGcP",
        "colab": {
          "base_uri": "https://localhost:8080/"
        }
      },
      "source": [
        "from sklearn.metrics import classification_report\n",
        "print(classification_report(label,model_M4.predict(features)))"
      ],
      "execution_count": 0,
      "outputs": [
        {
          "output_type": "stream",
          "text": [
            "              precision    recall  f1-score   support\n",
            "\n",
            "           0       0.95      0.97      0.96       357\n",
            "           1       0.95      0.92      0.94       212\n",
            "\n",
            "    accuracy                           0.95       569\n",
            "   macro avg       0.95      0.95      0.95       569\n",
            "weighted avg       0.95      0.95      0.95       569\n",
            "\n"
          ],
          "name": "stdout"
        }
      ]
    },
    {
      "cell_type": "markdown",
      "metadata": {
        "colab_type": "text",
        "id": "uuh6n_3wFGcV"
      },
      "source": [
        "**Analysis:** Average is **93.5 %** which is **not acceptable** for **SL = 0.05**"
      ]
    },
    {
      "cell_type": "markdown",
      "metadata": {
        "id": "NnvoQ_DHLzVi",
        "colab_type": "text"
      },
      "source": [
        "## **Analysis:** Based on **Confusion Matrix**, **Model 3** with RS **366** is the best Model\n",
        "\n",
        "Model is **ACCEPTED** for **SL=0.2** however **REJECTED** for **SL=0.05**"
      ]
    },
    {
      "cell_type": "markdown",
      "metadata": {
        "id": "67yHQ3xeG1XW",
        "colab_type": "text"
      },
      "source": [
        "## **Observation:** Since Data is **unbalanced data**, hence we should use **PR AUC Curve** for **Visualization**"
      ]
    },
    {
      "cell_type": "markdown",
      "metadata": {
        "id": "KMQcIBTUoNob",
        "colab_type": "text"
      },
      "source": [
        "## **PR Curve**\n",
        "\n",
        "AUC Area\n",
        "\n",
        "**Model 1:** 99.6%\n",
        "\n",
        "**Model 2:** 100%\n",
        "\n",
        "**Model 3:** 99.8%\n",
        "\n",
        "**Model 4:** 99.3%\n"
      ]
    },
    {
      "cell_type": "markdown",
      "metadata": {
        "id": "h5WHn_eyLi26",
        "colab_type": "text"
      },
      "source": [
        "### MODEL 1 PR Curve"
      ]
    },
    {
      "cell_type": "code",
      "metadata": {
        "id": "XVOOq1BxoNoc",
        "colab_type": "code",
        "outputId": "904b496d-f0f7-4f35-935f-d8584905c9d5",
        "colab": {
          "base_uri": "https://localhost:8080/"
        }
      },
      "source": [
        "from sklearn.metrics import precision_recall_curve\n",
        "from sklearn.metrics import auc\n",
        "import matplotlib.pyplot as plt\n",
        "%matplotlib inline\n",
        "\n",
        "#Step1: Extract the prob values for label 1\n",
        "probabilityValues = model_M1.predict_proba(X_test_M1)[:,1]\n",
        "\n",
        "#Step2: Calc PR and AUC\n",
        "precision,recall,_ = precision_recall_curve(y_test_M1, probabilityValues)\n",
        "aucPR = auc(recall,precision)\n",
        "print(aucPR)\n",
        "\n",
        "#Step3: Plot the Skill line (0,0.5) (1,0.5)\n",
        "plt.plot([0,1],[0.5,0.5], linestyle='--')\n",
        "\n",
        "#Step4: Plot PR Curve\n",
        "plt.plot(recall,precision)\n"
      ],
      "execution_count": 0,
      "outputs": [
        {
          "output_type": "stream",
          "text": [
            "0.996748303675454\n"
          ],
          "name": "stdout"
        },
        {
          "output_type": "execute_result",
          "data": {
            "text/plain": [
              "[<matplotlib.lines.Line2D at 0x7fec5c594048>]"
            ]
          },
          "metadata": {
            "tags": []
          },
          "execution_count": 36
        },
        {
          "output_type": "display_data",
          "data": {
            "image/png": "[encoded data removed]",
            "text/plain": [
              "<Figure size 432x288 with 1 Axes>"
            ]
          },
          "metadata": {
            "tags": [],
            "needs_background": "light"
          }
        }
      ]
    },
    {
      "cell_type": "markdown",
      "metadata": {
        "colab_type": "text",
        "id": "nNoY-F7oLpNW"
      },
      "source": [
        "### MODEL 2 PR Curve"
      ]
    },
    {
      "cell_type": "code",
      "metadata": {
        "colab_type": "code",
        "outputId": "4ca5e5da-8b2f-42bf-a780-faa0876c5191",
        "id": "L_lgLGImLpNb",
        "colab": {
          "base_uri": "https://localhost:8080/",
          "height": 300
        }
      },
      "source": [
        "from sklearn.metrics import precision_recall_curve\n",
        "from sklearn.metrics import auc\n",
        "import matplotlib.pyplot as plt\n",
        "%matplotlib inline\n",
        "\n",
        "#Step1: Extract the prob values for label 1\n",
        "probabilityValues = model_M2.predict_proba(X_test_M2)[:,1]\n",
        "\n",
        "#Step2: Calc PR and AUC\n",
        "precision,recall,_ = precision_recall_curve(y_test_M2, probabilityValues)\n",
        "aucPR = auc(recall,precision)\n",
        "print(aucPR)\n",
        "\n",
        "#Step3: Plot the Skill line (0,0.5) (1,0.5)\n",
        "plt.plot([0,1],[0.5,0.5], linestyle='--')\n",
        "\n",
        "#Step4: Plot PR Curve\n",
        "plt.plot(recall,precision)\n"
      ],
      "execution_count": 0,
      "outputs": [
        {
          "output_type": "stream",
          "text": [
            "1.0\n"
          ],
          "name": "stdout"
        },
        {
          "output_type": "execute_result",
          "data": {
            "text/plain": [
              "[<matplotlib.lines.Line2D at 0x7fec4d16f6a0>]"
            ]
          },
          "metadata": {
            "tags": []
          },
          "execution_count": 37
        },
        {
          "output_type": "display_data",
          "data": {
            "image/png": "[encoded data removed]",
            "text/plain": [
              "<Figure size 432x288 with 1 Axes>"
            ]
          },
          "metadata": {
            "tags": [],
            "needs_background": "light"
          }
        }
      ]
    },
    {
      "cell_type": "markdown",
      "metadata": {
        "id": "gWKV3PArMyX1",
        "colab_type": "text"
      },
      "source": [
        "### MODEL 3 PR Curve"
      ]
    },
    {
      "cell_type": "code",
      "metadata": {
        "colab_type": "code",
        "outputId": "12cd89fd-d78d-407d-951b-76ba7fa7e679",
        "id": "vTCote__MMu8",
        "colab": {
          "base_uri": "https://localhost:8080/"
        }
      },
      "source": [
        "from sklearn.metrics import precision_recall_curve\n",
        "from sklearn.metrics import auc\n",
        "import matplotlib.pyplot as plt\n",
        "%matplotlib inline\n",
        "\n",
        "#Step1: Extract the prob values for label 1\n",
        "probabilityValues = model_M3.predict_proba(X_test_M3)[:,1]\n",
        "\n",
        "#Step2: Calc PR and AUC\n",
        "precision,recall,_ = precision_recall_curve(y_test_M3, probabilityValues)\n",
        "aucPR = auc(recall,precision)\n",
        "print(aucPR)\n",
        "\n",
        "#Step3: Plot the Skill line (0,0.5) (1,0.5)\n",
        "plt.plot([0,1],[0.5,0.5], linestyle='--')\n",
        "\n",
        "#Step4: Plot PR Curve\n",
        "plt.plot(recall,precision)\n"
      ],
      "execution_count": 0,
      "outputs": [
        {
          "output_type": "stream",
          "text": [
            "0.9990440949737898\n"
          ],
          "name": "stdout"
        },
        {
          "output_type": "execute_result",
          "data": {
            "text/plain": [
              "[<matplotlib.lines.Line2D at 0x7fec4a8dfe48>]"
            ]
          },
          "metadata": {
            "tags": []
          },
          "execution_count": 38
        },
        {
          "output_type": "display_data",
          "data": {
            "image/png": "[encoded data removed]",
            "text/plain": [
              "<Figure size 432x288 with 1 Axes>"
            ]
          },
          "metadata": {
            "tags": [],
            "needs_background": "light"
          }
        }
      ]
    },
    {
      "cell_type": "markdown",
      "metadata": {
        "colab_type": "text",
        "id": "MhmqCqmXM55O"
      },
      "source": [
        "### MODEL 4 PR Curve"
      ]
    },
    {
      "cell_type": "code",
      "metadata": {
        "colab_type": "code",
        "outputId": "aa03de9b-e6bb-415c-b922-a79671ad5350",
        "id": "eRvBsV0FM190",
        "colab": {
          "base_uri": "https://localhost:8080/"
        }
      },
      "source": [
        "from sklearn.metrics import precision_recall_curve\n",
        "from sklearn.metrics import auc\n",
        "import matplotlib.pyplot as plt\n",
        "%matplotlib inline\n",
        "\n",
        "#Step1: Extract the prob values for label 1\n",
        "probabilityValues = model_M4.predict_proba(X_test_M4)[:,1]\n",
        "\n",
        "#Step2: Calc PR and AUC\n",
        "precision,recall,_ = precision_recall_curve(y_test_M4, probabilityValues)\n",
        "aucPR = auc(recall,precision)\n",
        "print(aucPR)\n",
        "\n",
        "#Step3: Plot the Skill line (0,0.5) (1,0.5)\n",
        "plt.plot([0,1],[0.5,0.5], linestyle='--')\n",
        "\n",
        "#Step4: Plot PR Curve\n",
        "plt.plot(recall,precision)\n"
      ],
      "execution_count": 0,
      "outputs": [
        {
          "output_type": "stream",
          "text": [
            "0.9930924873158506\n"
          ],
          "name": "stdout"
        },
        {
          "output_type": "execute_result",
          "data": {
            "text/plain": [
              "[<matplotlib.lines.Line2D at 0x7fec4d5fbbe0>]"
            ]
          },
          "metadata": {
            "tags": []
          },
          "execution_count": 39
        },
        {
          "output_type": "display_data",
          "data": {
            "image/png": "[encoded data removed]",
            "text/plain": [
              "<Figure size 432x288 with 1 Axes>"
            ]
          },
          "metadata": {
            "tags": [],
            "needs_background": "light"
          }
        }
      ]
    },
    {
      "cell_type": "markdown",
      "metadata": {
        "colab_type": "text",
        "id": "9B_GCIhrNJvx"
      },
      "source": [
        "## **Analysis:** Based on **Visualization Matrix**, **Model 2** with RS **155** is the best Model\n",
        "\n",
        "The Model is **ACCPTED** for **SL=0.2** but **REJECTED** for **SL=0.05**"
      ]
    },
    {
      "cell_type": "markdown",
      "metadata": {
        "id": "n7khXgiuHKtZ",
        "colab_type": "text"
      },
      "source": [
        "## **APPLYING KNN ALGORITHM** \n",
        "\n",
        "**Confusion matrix:** USING LOGISTIC REGRESSIONS BEST MODEL SPLIT i.e **RS = 366**\n",
        "\n",
        "**Visualization Matrix:** USING LOGISTIC REGRESSIONS BEST MODEL SPLIT i.e **RS = 155**"
      ]
    },
    {
      "cell_type": "markdown",
      "metadata": {
        "id": "gkOie3j8KxBh",
        "colab_type": "text"
      },
      "source": [
        "### **FOR LOOP TO CHECK SUITED N_NEIGHBOR VALUE**\n",
        "\n",
        "**Analysis:** Found No value in range 1-10, hence will go for **Square Root** method"
      ]
    },
    {
      "cell_type": "code",
      "metadata": {
        "id": "EEahwWaYJjTb",
        "colab_type": "code",
        "outputId": "bfcc39ae-018e-47d7-90da-fa53c1d78bf1",
        "colab": {
          "base_uri": "https://localhost:8080/",
          "height": 656
        }
      },
      "source": [
        "from sklearn.neighbors import KNeighborsClassifier\n",
        "\n",
        "def find_n_neighbor():\n",
        "    for i in range(1,10):\n",
        "        modelKNN = KNeighborsClassifier(n_neighbors=i)\n",
        "        modelKNN.fit(X_train_M3,y_train_M3) \n",
        "        TrainScore = modelKNN.score(X_train_M3,y_train_M3)\n",
        "        TestScore =  modelKNN.score(X_test_M3,y_test_M3)\n",
        "        print(\"Train score for \", i, \" is: \", TrainScore )\n",
        "        print(\"Test score for \", i, \" is: \", TestScore, \"\\n\")\n",
        "        if TestScore > TrainScore:\n",
        "            best_n_neighbor_value = i\n",
        "            break\n",
        "    return best_n_neighbor_value\n",
        "\n",
        "n_neighbor = find_n_neighbor()\n",
        "print(\"Best value for n_neighbor is: \", n_neighbor)"
      ],
      "execution_count": 0,
      "outputs": [
        {
          "output_type": "stream",
          "text": [
            "1\n",
            "Train score for  1  is:  1.0\n",
            "Test score for  1  is:  0.956140350877193 \n",
            "\n",
            "2\n",
            "Train score for  2  is:  0.9384615384615385\n",
            "Test score for  2  is:  0.9298245614035088 \n",
            "\n",
            "3\n",
            "Train score for  3  is:  0.9494505494505494\n",
            "Test score for  3  is:  0.9385964912280702 \n",
            "\n",
            "4\n",
            "Train score for  4  is:  0.9428571428571428\n",
            "Test score for  4  is:  0.9385964912280702 \n",
            "\n",
            "5\n",
            "Train score for  5  is:  0.945054945054945\n",
            "Test score for  5  is:  0.9385964912280702 \n",
            "\n",
            "6\n",
            "Train score for  6  is:  0.9428571428571428\n",
            "Test score for  6  is:  0.9210526315789473 \n",
            "\n",
            "7\n",
            "Train score for  7  is:  0.9362637362637363\n",
            "Test score for  7  is:  0.9298245614035088 \n",
            "\n",
            "8\n",
            "Train score for  8  is:  0.9340659340659341\n",
            "Test score for  8  is:  0.9298245614035088 \n",
            "\n",
            "9\n",
            "Train score for  9  is:  0.9318681318681319\n",
            "Test score for  9  is:  0.9298245614035088 \n",
            "\n"
          ],
          "name": "stdout"
        }
      ]
    },
    {
      "cell_type": "markdown",
      "metadata": {
        "id": "QX2IwrvQLXAr",
        "colab_type": "text"
      },
      "source": [
        "### **Using SQUARE ROOT method to find N_Neighbor value**\n",
        "\n",
        "**Obtained Value:** 21"
      ]
    },
    {
      "cell_type": "code",
      "metadata": {
        "id": "RrbDPR8eLJPU",
        "colab_type": "code",
        "outputId": "be3257da-9839-4c00-8b60-3f1832a9f2d7",
        "colab": {
          "base_uri": "https://localhost:8080/",
          "height": 34
        }
      },
      "source": [
        "from math import sqrt\n",
        "round(sqrt(len(X_train_M3)))"
      ],
      "execution_count": 0,
      "outputs": [
        {
          "output_type": "execute_result",
          "data": {
            "text/plain": [
              "21"
            ]
          },
          "metadata": {
            "tags": []
          },
          "execution_count": 42
        }
      ]
    },
    {
      "cell_type": "markdown",
      "metadata": {
        "id": "AW644d84I8kn",
        "colab_type": "text"
      },
      "source": [
        "### **CONFUSION MATRIX: RS=366 & N_NEIGHBOR=21**\n",
        "\n",
        "**Check for Non Tolerant data:**\n",
        "\n",
        "M (1) -> B (0) (Non Tolerant)\n",
        "\n",
        "B (0) -> M (1)\n",
        "\n",
        "Precision of B\n",
        "\n",
        "Recall of M"
      ]
    },
    {
      "cell_type": "code",
      "metadata": {
        "id": "4iF29isuHJuf",
        "colab_type": "code",
        "outputId": "5cc6586e-d010-4317-f808-77290b4c74f4",
        "colab": {
          "base_uri": "https://localhost:8080/",
          "height": 70
        }
      },
      "source": [
        "from sklearn.neighbors import KNeighborsClassifier\n",
        "modelKNN_CF = KNeighborsClassifier(n_neighbors=21)\n",
        "modelKNN_CF.fit(X_train_M3,y_train_M3)"
      ],
      "execution_count": 0,
      "outputs": [
        {
          "output_type": "execute_result",
          "data": {
            "text/plain": [
              "KNeighborsClassifier(algorithm='auto', leaf_size=30, metric='minkowski',\n",
              "                     metric_params=None, n_jobs=None, n_neighbors=21, p=2,\n",
              "                     weights='uniform')"
            ]
          },
          "metadata": {
            "tags": []
          },
          "execution_count": 43
        }
      ]
    },
    {
      "cell_type": "code",
      "metadata": {
        "id": "yeSsgFPlHWke",
        "colab_type": "code",
        "outputId": "c60f93f0-15a2-49cd-ba0f-a5ee2325d69b",
        "colab": {
          "base_uri": "https://localhost:8080/",
          "height": 52
        }
      },
      "source": [
        "print(\"Train score\", modelKNN_CF.score(X_train_M3,y_train_M3))\n",
        "print(\"Test score\", modelKNN_CF.score(X_test_M3,y_test_M3))"
      ],
      "execution_count": 0,
      "outputs": [
        {
          "output_type": "stream",
          "text": [
            "Train score 0.9252747252747253\n",
            "Test score 0.9385964912280702\n"
          ],
          "name": "stdout"
        }
      ]
    },
    {
      "cell_type": "markdown",
      "metadata": {
        "id": "0KCk1WGjMXLf",
        "colab_type": "text"
      },
      "source": [
        "The Test Score is not grater than the Train Score"
      ]
    },
    {
      "cell_type": "code",
      "metadata": {
        "id": "Fo_DxnVBHmcL",
        "colab_type": "code",
        "outputId": "2cfe2b05-1ed0-415d-e2c0-2cf201380d06",
        "colab": {
          "base_uri": "https://localhost:8080/",
          "height": 52
        }
      },
      "source": [
        "from sklearn.metrics import confusion_matrix\n",
        "confusion_matrix(y_test_M3,modelKNN_CF.predict(X_test_M3))"
      ],
      "execution_count": 0,
      "outputs": [
        {
          "output_type": "execute_result",
          "data": {
            "text/plain": [
              "array([[69,  0],\n",
              "       [ 7, 38]])"
            ]
          },
          "metadata": {
            "tags": []
          },
          "execution_count": 45
        }
      ]
    },
    {
      "cell_type": "code",
      "metadata": {
        "id": "U-jKGHhXHn4u",
        "colab_type": "code",
        "outputId": "367cbb5f-2599-462c-99e1-2c00dbe7dc94",
        "colab": {
          "base_uri": "https://localhost:8080/",
          "height": 176
        }
      },
      "source": [
        "from sklearn.metrics import classification_report\n",
        "print(classification_report(y_test_M3,modelKNN_CF.predict(X_test_M3)))"
      ],
      "execution_count": 0,
      "outputs": [
        {
          "output_type": "stream",
          "text": [
            "              precision    recall  f1-score   support\n",
            "\n",
            "           0       0.91      1.00      0.95        69\n",
            "           1       1.00      0.84      0.92        45\n",
            "\n",
            "    accuracy                           0.94       114\n",
            "   macro avg       0.95      0.92      0.93       114\n",
            "weighted avg       0.94      0.94      0.94       114\n",
            "\n"
          ],
          "name": "stdout"
        }
      ]
    },
    {
      "cell_type": "markdown",
      "metadata": {
        "id": "T8s5r5GcNnFC",
        "colab_type": "text"
      },
      "source": [
        "### **Average** of precision and recall is **87.5%**\n",
        "\n",
        "The Model is **ACCEPTED** for **SL=0.2**, however **REJECTED** for **SL=0.05**"
      ]
    },
    {
      "cell_type": "markdown",
      "metadata": {
        "id": "e4glPzeNOB3V",
        "colab_type": "text"
      },
      "source": [
        "### **VISUALIZATION MATRIX: RS=155 & N_NEIGHBOR=21**"
      ]
    },
    {
      "cell_type": "code",
      "metadata": {
        "colab_type": "code",
        "outputId": "91546ab9-a476-446f-e954-c1e56529c0a0",
        "id": "RgATGRJEONkT",
        "colab": {
          "base_uri": "https://localhost:8080/",
          "height": 70
        }
      },
      "source": [
        "from sklearn.neighbors import KNeighborsClassifier\n",
        "modelKNN_VM = KNeighborsClassifier(n_neighbors=21)\n",
        "modelKNN_VM.fit(X_train_M2,y_train_M2)"
      ],
      "execution_count": 0,
      "outputs": [
        {
          "output_type": "execute_result",
          "data": {
            "text/plain": [
              "KNeighborsClassifier(algorithm='auto', leaf_size=30, metric='minkowski',\n",
              "                     metric_params=None, n_jobs=None, n_neighbors=21, p=2,\n",
              "                     weights='uniform')"
            ]
          },
          "metadata": {
            "tags": []
          },
          "execution_count": 47
        }
      ]
    },
    {
      "cell_type": "code",
      "metadata": {
        "colab_type": "code",
        "outputId": "c6315cd9-df4b-47eb-eaeb-e0aa650450af",
        "id": "YNBPKY_DONkt",
        "colab": {
          "base_uri": "https://localhost:8080/",
          "height": 52
        }
      },
      "source": [
        "print(\"Train score\", modelKNN_VM.score(X_train_M2,y_train_M2))\n",
        "print(\"Test score\", modelKNN_VM.score(X_test_M2,y_test_M2))"
      ],
      "execution_count": 0,
      "outputs": [
        {
          "output_type": "stream",
          "text": [
            "Train score 0.9230769230769231\n",
            "Test score 0.9736842105263158\n"
          ],
          "name": "stdout"
        }
      ]
    },
    {
      "cell_type": "code",
      "metadata": {
        "id": "Odp9rFmGM1zx",
        "colab_type": "code",
        "outputId": "fc3ca331-0d76-4585-8f2e-12411fdf42a7",
        "colab": {
          "base_uri": "https://localhost:8080/",
          "height": 300
        }
      },
      "source": [
        "from sklearn.metrics import precision_recall_curve\n",
        "from sklearn.metrics import auc\n",
        "import matplotlib.pyplot as plt\n",
        "%matplotlib inline\n",
        "\n",
        "#Step1: Extract the prob values for label 1\n",
        "probabilityValues = modelKNN_VM.predict_proba(X_test_M2)[:,1]\n",
        "\n",
        "#Step2: Calc PR and AUC\n",
        "precision,recall,_ = precision_recall_curve(y_test_M2, probabilityValues)\n",
        "aucPR = auc(recall,precision)\n",
        "print(aucPR)\n",
        "\n",
        "#Step3: Plot the Skill line (0,0.5) (1,0.5)\n",
        "plt.plot([0,1],[0.5,0.5], linestyle='--')\n",
        "\n",
        "#Step4: Plot PR Curve\n",
        "plt.plot(recall,precision)"
      ],
      "execution_count": 0,
      "outputs": [
        {
          "output_type": "stream",
          "text": [
            "0.998717146934783\n"
          ],
          "name": "stdout"
        },
        {
          "output_type": "execute_result",
          "data": {
            "text/plain": [
              "[<matplotlib.lines.Line2D at 0x7fec4a83feb8>]"
            ]
          },
          "metadata": {
            "tags": []
          },
          "execution_count": 49
        },
        {
          "output_type": "display_data",
          "data": {
            "image/png": "[encoded data removed]",
            "text/plain": [
              "<Figure size 432x288 with 1 Axes>"
            ]
          },
          "metadata": {
            "tags": [],
            "needs_background": "light"
          }
        }
      ]
    },
    {
      "cell_type": "markdown",
      "metadata": {
        "id": "rvdZrczmOzEH",
        "colab_type": "text"
      },
      "source": [
        "### **AUC Area: 99.8%**\n",
        "\n",
        "The Model is **ACCEPTED** for **SL=0.2**, however **REJECTED** for **SL=0.05**"
      ]
    }
  ]
}